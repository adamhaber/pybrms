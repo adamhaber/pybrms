{
 "cells": [
  {
   "cell_type": "code",
   "execution_count": null,
   "metadata": {},
   "outputs": [],
   "source": [
    "# default_exp pybrms"
   ]
  },
  {
   "cell_type": "code",
   "execution_count": null,
   "metadata": {},
   "outputs": [],
   "source": [
    "#export\n",
    "#hide\n",
    "import typing\n",
    "import pandas as pd\n",
    "import numpy as np\n",
    "import cmdstanpy\n",
    "import re\n",
    "\n",
    "import rpy2.robjects.packages as rpackages\n",
    "from rpy2.robjects import default_converter, pandas2ri, numpy2ri, ListVector, DataFrame, StrVector\n",
    "from rpy2.robjects.conversion import localconverter\n",
    "\n",
    "try:\n",
    "    brms = rpackages.importr(\"brms\")\n",
    "except:\n",
    "    utils = rpackages.importr(\"utils\")\n",
    "    utils.chooseCRANmirror(ind=1)\n",
    "    utils.install_packages(StrVector(('brms',)))\n",
    "    brms = rpackages.importr(\"brms\")"
   ]
  },
  {
   "cell_type": "markdown",
   "metadata": {},
   "source": [
    "# Documentation"
   ]
  },
  {
   "cell_type": "code",
   "execution_count": null,
   "metadata": {},
   "outputs": [],
   "source": [
    "#export\n",
    "def get_brms_data(dataset_name:str):\n",
    "    \"A helper function for importing different datasets included in brms.\"\n",
    "    with localconverter(default_converter + pandas2ri.converter + numpy2ri.converter) as cv:\n",
    "        return pd.DataFrame(rpackages.data(brms).fetch(dataset_name)[dataset_name])"
   ]
  },
  {
   "cell_type": "code",
   "execution_count": null,
   "metadata": {},
   "outputs": [],
   "source": [
    "assert isinstance(get_brms_data(\"epilepsy\"),pd.DataFrame)\n",
    "assert isinstance(get_brms_data(\"kidney\"),pd.DataFrame)\n",
    "assert isinstance(get_brms_data(\"inhaler\"),pd.DataFrame)"
   ]
  },
  {
   "cell_type": "code",
   "execution_count": null,
   "metadata": {},
   "outputs": [],
   "source": [
    "#export\n",
    "def _convert_python_to_R(data: typing.Union[dict, pd.DataFrame]):\n",
    "    \"\"\"\n",
    "    Converts a python object to an R object brms can handle:\n",
    "    * python dict      ->   R list\n",
    "    * python dataframe ->   R dataframe\n",
    "    \"\"\"\n",
    "    with localconverter(default_converter + pandas2ri.converter + numpy2ri.converter) as cv:\n",
    "        if isinstance(data, pd.DataFrame):\n",
    "            return DataFrame(data)\n",
    "        elif isinstance(data, dict):\n",
    "            return ListVector(data)\n",
    "        else:\n",
    "            raise ValueError(\"Data should be either a pandas dataframe or a dictionary\")"
   ]
  },
  {
   "cell_type": "code",
   "execution_count": null,
   "metadata": {},
   "outputs": [],
   "source": [
    "assert isinstance(_convert_python_to_R(dict(a=1, b=2)),ListVector)\n",
    "assert isinstance(_convert_python_to_R(get_brms_data(\"inhaler\")),DataFrame)"
   ]
  },
  {
   "cell_type": "code",
   "execution_count": null,
   "metadata": {},
   "outputs": [],
   "source": [
    "#export\n",
    "def get_stan_code(\n",
    "    formula: str,\n",
    "    data: typing.Union[dict, pd.DataFrame],\n",
    "    priors: list,\n",
    "    family: str,\n",
    "    sample_prior: str=\"no\"\n",
    "):\n",
    "    if len(priors)>0:\n",
    "        return brms.make_stancode(\n",
    "            formula=formula, data=data, prior=priors, family=family, sample_prior=sample_prior\n",
    "        )[0]\n",
    "    else:\n",
    "        return brms.make_stancode(\n",
    "            formula=formula, data=data, family=family, sample_prior=sample_prior\n",
    "        )[0]"
   ]
  },
  {
   "cell_type": "code",
   "execution_count": null,
   "metadata": {},
   "outputs": [],
   "source": [
    "#export\n",
    "def _convert_R_to_python(\n",
    "    formula: str, data: typing.Union[dict, pd.DataFrame], family: str\n",
    "):\n",
    "    # calls brms to preprocess the data; returns an R ListVector\n",
    "    model_data = brms.make_standata(formula, data, family=family)\n",
    "    \n",
    "    # a context manager for conversion between R objects and python/pandas/numpy\n",
    "    # we're not activating it globally because it conflicts with creation of priors\n",
    "    with localconverter(default_converter + pandas2ri.converter + numpy2ri.converter) as cv:\n",
    "        model_data = dict(model_data.items())\n",
    "    return model_data"
   ]
  },
  {
   "cell_type": "code",
   "execution_count": null,
   "metadata": {},
   "outputs": [],
   "source": [
    "#export\n",
    "def _coerce_types(stan_code, stan_data):\n",
    "    pat_data = re.compile(r'(?<=data {)[^}]*')\n",
    "    pat_identifiers = re.compile(r'([\\w]+)')\n",
    "\n",
    "    # extract the data block and separate lines\n",
    "    data_lines = pat_data.findall(stan_code)[0].split('\\n')\n",
    "    \n",
    "    # remove commets, <>-style bounds and []-style data size declarations \n",
    "    data_lines_no_comments = [l.split('//')[0] for l in data_lines]\n",
    "    data_lines_no_bounds = [re.sub('<[^>]+>', '',l) for l in data_lines_no_comments]\n",
    "    data_lines_no_sizes = [re.sub('\\[[^>]+\\]', '',l) for l in data_lines_no_bounds]\n",
    "\n",
    "    # extract identifiers - first one should be the type, last one should be the name\n",
    "    identifiers = [pat_identifiers.findall(l) for l in data_lines_no_sizes]\n",
    "    var_types = [l[0] for l in identifiers if len(l)>0]\n",
    "    var_names = [l[-1] for l in identifiers if len(l)>0]\n",
    "    var_dict = dict(zip(var_names, var_types))\n",
    "\n",
    "    # coerce integers to int and 1-size arrays to scalars\n",
    "    for k,v in stan_data.items():\n",
    "        if k in var_names and var_dict[k]==\"int\":\n",
    "            stan_data[k] = v.astype(int) \n",
    "        if v.size==1:\n",
    "            stan_data[k] = stan_data[k][0]\n",
    "    return stan_data\n",
    "    "
   ]
  },
  {
   "cell_type": "code",
   "execution_count": null,
   "metadata": {},
   "outputs": [],
   "source": [
    "#export\n",
    "def fit(\n",
    "    formula: str,\n",
    "    stan_file: str,\n",
    "    data: typing.Union[dict, pd.DataFrame],\n",
    "    priors: typing.Optional[list] = None,\n",
    "    family: str = \"gaussian\",\n",
    "    sample_prior: str = \"no\",\n",
    "    sample:bool = \"yes\",\n",
    "    model_kwargs: typing.Optional[dict] = None\n",
    "     **fit_kwargs,\n",
    "):\n",
    "    if priors is None:\n",
    "        priors = []\n",
    "    if model_kwargs is None:\n",
    "        model_kwargs = {}\n",
    "\n",
    "    formula = brms.bf(formula)\n",
    "    data = _convert_python_to_R(data)\n",
    "\n",
    "    if len(priors)>0:\n",
    "        brms_prior = brms.prior_string(*priors[0])\n",
    "        for p in priors[1:]:\n",
    "            brms_prior = brms_prior + brms.prior_string(*p)\n",
    "        assert brms.is_brmsprior(brms_prior)\n",
    "    else:\n",
    "        brms_prior = []\n",
    "\n",
    "    model_code = get_stan_code(\n",
    "        formula=formula,\n",
    "        data=data,\n",
    "        family=family,\n",
    "        priors=brms_prior,\n",
    "        sample_prior=sample_prior,\n",
    "    )\n",
    "    model_data = _convert_R_to_python(formula, data, family)\n",
    "    model_data = _coerce_types(model_code, model_data)\n",
    "    \n",
    "    with open(stan_file, \"w\") as f:\n",
    "        f.write(model_code)\n",
    "\n",
    "    sm = cmdstanpy.CmdStanModel(stan_file=stan_file, **model_kwargs)\n",
    "    if sample==False:\n",
    "        return sm\n",
    "    else:\n",
    "        fit = sm.sample(data=model_data, **fit_kwargs)\n",
    "        return fit"
   ]
  },
  {
   "cell_type": "code",
   "execution_count": null,
   "metadata": {},
   "outputs": [],
   "source": [
    "from nbdev.showdoc import *"
   ]
  },
  {
   "cell_type": "code",
   "execution_count": null,
   "metadata": {},
   "outputs": [
    {
     "name": "stdout",
     "output_type": "stream",
     "text": [
      "Converted core.ipynb.\n",
      "Converted index.ipynb.\n"
     ]
    }
   ],
   "source": [
    "from nbdev.export import *\n",
    "notebook2script()"
   ]
  }
 ],
 "metadata": {
  "kernelspec": {
   "display_name": "Python 3 (ipykernel)",
   "language": "python",
   "name": "python3"
  },
  "language_info": {
   "codemirror_mode": {
    "name": "ipython",
    "version": 3
   },
   "file_extension": ".py",
   "mimetype": "text/x-python",
   "name": "python",
   "nbconvert_exporter": "python",
   "pygments_lexer": "ipython3",
   "version": "3.9.10"
  }
 },
 "nbformat": 4,
 "nbformat_minor": 4
}
